{
 "cells": [
  {
   "cell_type": "code",
   "execution_count": 1,
   "metadata": {},
   "outputs": [],
   "source": [
    "import os\n",
    "from urllib.request import urlopen\n",
    "from bs4 import BeautifulSoup\n",
    "import chardet\n",
    "from multiprocessing import Pool\n",
    "import multiprocessing as multi\n",
    "import pandas as pd\n",
    "import numpy as np\n",
    "from time import sleep"
   ]
  },
  {
   "cell_type": "code",
   "execution_count": 2,
   "metadata": {},
   "outputs": [],
   "source": [
    "cost_time = lambda x : 0.228 * x\n",
    "\n",
    "def main(x):\n",
    "    sleep(1)\n",
    "    a = [\"\",\"\",\"\"]\n",
    "    try:\n",
    "        html = urlopen(x).read()\n",
    "        unicode_html = html.decode(chardet.detect(html)['encoding'])\n",
    "        soup = BeautifulSoup(unicode_html, 'html.parser')\n",
    "    except:\n",
    "        return [\"error\",\"error\",\"error\"]\n",
    "    \n",
    "    try: a[0] = soup.find_all(\"meta\", property=\"og:image\")[0].attrs['content']\n",
    "    except: a[0] = \"error\"\n",
    "        \n",
    "    try: a[1] = soup.find_all(\"div\", class_=\"work-sheet data\")[0].attrs['data-category']\n",
    "    except: a[1] = \"error\"\n",
    "        \n",
    "    try: a[2] = soup.find(\"h1\").string\n",
    "    except: a[2] = \"error\"\n",
    "    \n",
    "    return a"
   ]
  },
  {
   "cell_type": "code",
   "execution_count": 3,
   "metadata": {
    "scrolled": false
   },
   "outputs": [
    {
     "name": "stdout",
     "output_type": "stream",
     "text": [
      "17009 url , it cost about , \n",
      " 3878.052 s\n",
      " 64.0 m\n"
     ]
    }
   ],
   "source": [
    "from_num = 1\n",
    "url_num = 17009\n",
    "url_list = [\"https://mangaki.fr/anime/\" + str(j) for j in range(from_num,from_num+url_num)]\n",
    "print(url_num, \"url , it cost about , \\n\", cost_time(url_num), \"s\\n\", cost_time(url_num) // 60, \"m\")"
   ]
  },
  {
   "cell_type": "code",
   "execution_count": 4,
   "metadata": {
    "scrolled": true
   },
   "outputs": [
    {
     "name": "stdout",
     "output_type": "stream",
     "text": [
      "CPU times: user 84 ms, sys: 8 ms, total: 92 ms\n",
      "Wall time: 8.01 s\n"
     ]
    }
   ],
   "source": [
    "p = Pool(multi.cpu_count())\n",
    "%time datas = p.map(main, url_list)\n",
    "p.close()"
   ]
  },
  {
   "cell_type": "code",
   "execution_count": 5,
   "metadata": {},
   "outputs": [],
   "source": [
    "def is_img(x):\n",
    "    if \"myanimelist.cdn-dena.com/\" in x:\n",
    "        return 1\n",
    "    else:\n",
    "        return 0"
   ]
  },
  {
   "cell_type": "code",
   "execution_count": 6,
   "metadata": {
    "scrolled": true
   },
   "outputs": [],
   "source": [
    "df = pd.DataFrame(datas)\n",
    "df.columns = ['img', 'category', 'title']\n",
    "\n",
    "df['img'] = df['img'].apply(lambda x: is_img(x))\n",
    "\n",
    "df = df.drop_duplicates()\n",
    "\n",
    "df = df[df['title'] != 'error']\n",
    "\n",
    "temp=df[df.duplicated(['category', 'title'],keep=False)]\n",
    "\n",
    "for i in temp.index:\n",
    "    df.loc[i,'img'] = -1"
   ]
  },
  {
   "cell_type": "code",
   "execution_count": 7,
   "metadata": {},
   "outputs": [
    {
     "data": {
      "text/html": [
       "<div>\n",
       "<style>\n",
       "    .dataframe thead tr:only-child th {\n",
       "        text-align: right;\n",
       "    }\n",
       "\n",
       "    .dataframe thead th {\n",
       "        text-align: left;\n",
       "    }\n",
       "\n",
       "    .dataframe tbody tr th {\n",
       "        vertical-align: top;\n",
       "    }\n",
       "</style>\n",
       "<table border=\"1\" class=\"dataframe\">\n",
       "  <thead>\n",
       "    <tr style=\"text-align: right;\">\n",
       "      <th></th>\n",
       "      <th>img</th>\n",
       "      <th>category</th>\n",
       "      <th>title</th>\n",
       "    </tr>\n",
       "  </thead>\n",
       "  <tbody>\n",
       "    <tr>\n",
       "      <th>0</th>\n",
       "      <td>1</td>\n",
       "      <td>anime</td>\n",
       "      <td>Death Note</td>\n",
       "    </tr>\n",
       "    <tr>\n",
       "      <th>1</th>\n",
       "      <td>0</td>\n",
       "      <td>anime</td>\n",
       "      <td>Code Geass: Hangyaku no Lelouch</td>\n",
       "    </tr>\n",
       "    <tr>\n",
       "      <th>2</th>\n",
       "      <td>1</td>\n",
       "      <td>anime</td>\n",
       "      <td>Sword Art Online</td>\n",
       "    </tr>\n",
       "    <tr>\n",
       "      <th>3</th>\n",
       "      <td>1</td>\n",
       "      <td>anime</td>\n",
       "      <td>Naruto</td>\n",
       "    </tr>\n",
       "    <tr>\n",
       "      <th>4</th>\n",
       "      <td>1</td>\n",
       "      <td>anime</td>\n",
       "      <td>L'Attaque des Titans</td>\n",
       "    </tr>\n",
       "  </tbody>\n",
       "</table>\n",
       "</div>"
      ],
      "text/plain": [
       "   img category                            title\n",
       "0    1    anime                       Death Note\n",
       "1    0    anime  Code Geass: Hangyaku no Lelouch\n",
       "2    1    anime                 Sword Art Online\n",
       "3    1    anime                           Naruto\n",
       "4    1    anime             L'Attaque des Titans"
      ]
     },
     "execution_count": 7,
     "metadata": {},
     "output_type": "execute_result"
    }
   ],
   "source": [
    "df.head()"
   ]
  },
  {
   "cell_type": "code",
   "execution_count": 8,
   "metadata": {},
   "outputs": [],
   "source": [
    "df = df.drop_duplicates()\n",
    "path = os.environ['HOME']+'/data/mangaki-data-challenge/scraping_data.csv'\n",
    "df.to_csv(path)"
   ]
  },
  {
   "cell_type": "code",
   "execution_count": null,
   "metadata": {},
   "outputs": [],
   "source": []
  }
 ],
 "metadata": {
  "kernelspec": {
   "display_name": "Python 3",
   "language": "python",
   "name": "python3"
  },
  "language_info": {
   "codemirror_mode": {
    "name": "ipython",
    "version": 3
   },
   "file_extension": ".py",
   "mimetype": "text/x-python",
   "name": "python",
   "nbconvert_exporter": "python",
   "pygments_lexer": "ipython3",
   "version": "3.6.3"
  }
 },
 "nbformat": 4,
 "nbformat_minor": 2
}
